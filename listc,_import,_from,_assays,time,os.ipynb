{
  "nbformat": 4,
  "nbformat_minor": 0,
  "metadata": {
    "colab": {
      "provenance": []
    },
    "kernelspec": {
      "name": "python3",
      "display_name": "Python 3"
    },
    "language_info": {
      "name": "python"
    }
  },
  "cells": [
    {
      "cell_type": "code",
      "source": [
        "# Example: Creating a list of squares of even numbers from 0 to 9\n",
        "\n",
        "squares = []\n",
        "for i in range(10):\n",
        "    if i % 2 == 0:\n",
        "        squares.append(i ** 2)\n",
        "print(squares)  # Output: [0, 4, 16, 36, 64]\n"
      ],
      "metadata": {
        "colab": {
          "base_uri": "https://localhost:8080/"
        },
        "id": "GlH9iUxQQzu5",
        "outputId": "4400d096-3baa-4a0f-9277-d1b73f425341"
      },
      "execution_count": 47,
      "outputs": [
        {
          "output_type": "stream",
          "name": "stdout",
          "text": [
            "[0, 4, 16, 36, 64]\n"
          ]
        }
      ]
    },
    {
      "cell_type": "code",
      "source": [
        "# The same functionality using list comprehension\n",
        "\n",
        "squares = [i ** 2 for i in range(10) if i % 2 == 0]\n",
        "print(squares)  # Output: [0, 4, 16, 36, 64]\n"
      ],
      "metadata": {
        "colab": {
          "base_uri": "https://localhost:8080/"
        },
        "id": "GrWr68sKQ8EM",
        "outputId": "a55572ba-fc93-4741-927d-587b0af767e9"
      },
      "execution_count": 48,
      "outputs": [
        {
          "output_type": "stream",
          "name": "stdout",
          "text": [
            "[0, 4, 16, 36, 64]\n"
          ]
        }
      ]
    },
    {
      "cell_type": "code",
      "source": [
        "# Converting the map object to a list\n",
        "\n",
        "result = list(map(square, numbers))\n",
        "print(result)  # Output: [1, 4, 9, 16, 25]\n"
      ],
      "metadata": {
        "colab": {
          "base_uri": "https://localhost:8080/"
        },
        "id": "FbGR5_yBQ-o3",
        "outputId": "f3dcfcbe-3463-4928-89c7-379fd0f14b8b"
      },
      "execution_count": 49,
      "outputs": [
        {
          "output_type": "stream",
          "name": "stdout",
          "text": [
            "[1, 4, 9, 16, 25]\n"
          ]
        }
      ]
    },
    {
      "cell_type": "code",
      "source": [
        "# Example: Filter even numbers from a list\n",
        "\n",
        "def is_even(num):\n",
        "    return num % 2 == 0\n",
        "numbers = [1, 2, 3, 4, 5, 6]\n",
        "even_numbers = []\n",
        "for num in numbers:\n",
        "    if is_even(num):\n",
        "        even_numbers.append(num)\n",
        "print(even_numbers)  # Output: [2, 4, 6]\n"
      ],
      "metadata": {
        "colab": {
          "base_uri": "https://localhost:8080/"
        },
        "id": "tViOFVDIRGG3",
        "outputId": "ad8a83d1-eda6-4aab-ad13-c00c85636551"
      },
      "execution_count": 50,
      "outputs": [
        {
          "output_type": "stream",
          "name": "stdout",
          "text": [
            "[2, 4, 6]\n"
          ]
        }
      ]
    },
    {
      "cell_type": "code",
      "source": [
        "# Using filter to achieve the same result\n",
        "\n",
        "even_numbers = list(filter(is_even, numbers))\n",
        "print(even_numbers)  # Output: [2, 4, 6]\n"
      ],
      "metadata": {
        "colab": {
          "base_uri": "https://localhost:8080/"
        },
        "id": "sWDhTnvdRJ70",
        "outputId": "49aefe7e-d90e-425a-9d03-66c1e2742a0a"
      },
      "execution_count": 51,
      "outputs": [
        {
          "output_type": "stream",
          "name": "stdout",
          "text": [
            "[2, 4, 6]\n"
          ]
        }
      ]
    },
    {
      "cell_type": "code",
      "source": [
        "from functools import reduce\n",
        "\n",
        "\n",
        "\n",
        "\n",
        "\n",
        "def multiply(x, y):\n",
        "    return x * y\n",
        "numbers = [1, 2, 3, 4]\n",
        "product = 1\n",
        "for num in numbers:\n",
        "    product = multiply(product, num)\n",
        "print(product)  # Output: 24\n"
      ],
      "metadata": {
        "colab": {
          "base_uri": "https://localhost:8080/"
        },
        "id": "BWMVZ4GhRNpf",
        "outputId": "479c792c-e54c-4193-f740-940283cd605c"
      },
      "execution_count": 53,
      "outputs": [
        {
          "output_type": "stream",
          "name": "stdout",
          "text": [
            "24\n"
          ]
        }
      ]
    },
    {
      "cell_type": "code",
      "source": [
        "# Using reduce to achieve the same result\n",
        "\n",
        "product = reduce(multiply, numbers)\n",
        "print(product)  # Output: 24\n"
      ],
      "metadata": {
        "colab": {
          "base_uri": "https://localhost:8080/"
        },
        "id": "Xld_8p4bRZIO",
        "outputId": "2921b474-99f6-410e-b8f5-7248c55ad7df"
      },
      "execution_count": 54,
      "outputs": [
        {
          "output_type": "stream",
          "name": "stdout",
          "text": [
            "24\n"
          ]
        }
      ]
    },
    {
      "cell_type": "code",
      "source": [
        "# Example: Adding 10 to each element in a list\n",
        "\n",
        "def add_ten(x):\n",
        "    return x + 10\n",
        "numbers = [1, 2, 3]\n",
        "result = list(map(add_ten, numbers))\n",
        "print(result)  # Output: [11, 12, 13]\n"
      ],
      "metadata": {
        "colab": {
          "base_uri": "https://localhost:8080/"
        },
        "id": "P9vgkjHWRdiH",
        "outputId": "3dbf6040-ca30-4e49-bd88-b428aa08db53"
      },
      "execution_count": 55,
      "outputs": [
        {
          "output_type": "stream",
          "name": "stdout",
          "text": [
            "[11, 12, 13]\n"
          ]
        }
      ]
    },
    {
      "cell_type": "code",
      "source": [
        "# Using a lambda function to achieve the same result\n",
        "\n",
        "result = list(map(lambda x: x + 10, numbers))\n",
        "print(result)  # Output: [11, 12, 13]\n"
      ],
      "metadata": {
        "colab": {
          "base_uri": "https://localhost:8080/"
        },
        "id": "BUYhk-R_Rhhc",
        "outputId": "d6beeda8-3edc-47f6-aba8-20a788e7fb62"
      },
      "execution_count": 56,
      "outputs": [
        {
          "output_type": "stream",
          "name": "stdout",
          "text": [
            "[11, 12, 13]\n"
          ]
        }
      ]
    },
    {
      "cell_type": "code",
      "source": [
        "# main.py\n",
        "\n",
        "\n",
        "from test import *\n",
        "print(PI)              # Output: 3.14159\n",
        "print(E)               # Output: 2.71828\n",
        "print(add(3, 4))       # Output: 7\n",
        "print(multiply(3, 4))  # Output: 12\n"
      ],
      "metadata": {
        "colab": {
          "base_uri": "https://localhost:8080/"
        },
        "id": "sSwFU73zRula",
        "outputId": "b2e9ff2f-6d9b-4c77-9248-080bf3013c4f"
      },
      "execution_count": 60,
      "outputs": [
        {
          "output_type": "stream",
          "name": "stdout",
          "text": [
            "3.14159\n",
            "2.71828\n",
            "7\n",
            "12\n"
          ]
        }
      ]
    },
    {
      "cell_type": "code",
      "source": [
        "# test.py\n",
        "\n",
        "PI = 3.14159\n",
        "E = 2.71828\n",
        "def add(a, b):\n",
        "    return a + b\n",
        "def multiply(a, b):\n",
        "    return a * b\n",
        "def divide(a, b):\n",
        "    return a / b\n"
      ],
      "metadata": {
        "id": "7aZYfTebSBBY"
      },
      "execution_count": 63,
      "outputs": []
    },
    {
      "cell_type": "markdown",
      "source": [],
      "metadata": {
        "id": "MXM-bu3bSAc3"
      }
    },
    {
      "cell_type": "code",
      "source": [
        "  import sys\n",
        "\n",
        "\n",
        "  # Print all command-line arguments\n",
        "  print(sys.argv)\n",
        "  # Check if any argument is passed\n",
        "  if len(sys.argv) > 1:\n",
        "      print(\"Argument passed:\", sys.argv[1])\n",
        "  else:\n",
        "      print(\"No argument passed\")\n",
        ""
      ],
      "metadata": {
        "colab": {
          "base_uri": "https://localhost:8080/"
        },
        "id": "NqgbpjTeSajc",
        "outputId": "a7fcda85-6259-4b29-908c-39692b0d523b"
      },
      "execution_count": 67,
      "outputs": [
        {
          "output_type": "stream",
          "name": "stdout",
          "text": [
            "['/usr/local/lib/python3.10/dist-packages/colab_kernel_launcher.py', '-f', '/root/.local/share/jupyter/runtime/kernel-1e7c3a05-e41b-4885-a7fc-7fc54be592c2.json']\n",
            "Argument passed: -f\n"
          ]
        }
      ]
    },
    {
      "cell_type": "code",
      "source": [
        "  import time\n",
        "\n",
        "\n",
        "  # Get the current time in seconds since the epoch (Unix timestamp)\n",
        "  current_time = time.time()\n",
        "  print(\"Current time (in seconds):\", current_time)\n",
        ""
      ],
      "metadata": {
        "colab": {
          "base_uri": "https://localhost:8080/"
        },
        "id": "vrb6Sbv3Sjnq",
        "outputId": "99a76aa3-74b1-42b0-e483-89902a6110c2"
      },
      "execution_count": 69,
      "outputs": [
        {
          "output_type": "stream",
          "name": "stdout",
          "text": [
            "Current time (in seconds): 1726430737.1328256\n"
          ]
        }
      ]
    },
    {
      "cell_type": "code",
      "source": [
        "  import time\n",
        "\n",
        "\n",
        "  print(\"Start\")\n",
        "  time.sleep(2)  # Pauses execution for 2 seconds\n",
        "  print(\"End after 2 seconds\")\n",
        ""
      ],
      "metadata": {
        "colab": {
          "base_uri": "https://localhost:8080/"
        },
        "id": "F39fd8BjSpRV",
        "outputId": "2d2e957a-6399-4bcc-a0bc-9e4bf25017f8"
      },
      "execution_count": 70,
      "outputs": [
        {
          "output_type": "stream",
          "name": "stdout",
          "text": [
            "Start\n",
            "End after 2 seconds\n"
          ]
        }
      ]
    },
    {
      "cell_type": "code",
      "source": [
        "  import time\n",
        "\n",
        "\n",
        "  start_time = time.time()\n",
        "  # Some code you want to measure\n",
        "  total = 0\n",
        "  for i in range(1000000):\n",
        "      total += i\n",
        "  end_time = time.time()\n",
        "  print(\"Execution time:\", end_time - start_time, \"seconds\")\n",
        ""
      ],
      "metadata": {
        "colab": {
          "base_uri": "https://localhost:8080/"
        },
        "id": "c2sCRbMoStAL",
        "outputId": "0fb68bf1-ef57-49ca-c7e1-8fcdfcbe5b1b"
      },
      "execution_count": 71,
      "outputs": [
        {
          "output_type": "stream",
          "name": "stdout",
          "text": [
            "Execution time: 0.14554619789123535 seconds\n"
          ]
        }
      ]
    },
    {
      "cell_type": "code",
      "source": [
        "  import os\n",
        "\n",
        "\n",
        "  # Get the current working directory\n",
        "  cwd = os.getcwd()\n",
        "  print(\"Current working directory:\", cwd)\n",
        ""
      ],
      "metadata": {
        "colab": {
          "base_uri": "https://localhost:8080/"
        },
        "id": "_eXmMqfCSxHf",
        "outputId": "1f8289ff-6f79-432a-a432-a1760d5adc56"
      },
      "execution_count": 72,
      "outputs": [
        {
          "output_type": "stream",
          "name": "stdout",
          "text": [
            "Current working directory: /content\n"
          ]
        }
      ]
    },
    {
      "cell_type": "code",
      "source": [
        "  import os\n",
        "\n",
        "\n",
        "  # List files and directories in the current directory\n",
        "  files = os.listdir()\n",
        "  print(\"Files and directories:\", files)\n",
        ""
      ],
      "metadata": {
        "colab": {
          "base_uri": "https://localhost:8080/"
        },
        "id": "mKPK8SMTS0uq",
        "outputId": "b258fcfb-2092-47df-a816-2ff6f6ceb29f"
      },
      "execution_count": 73,
      "outputs": [
        {
          "output_type": "stream",
          "name": "stdout",
          "text": [
            "Files and directories: ['.config', 'sample_data']\n"
          ]
        }
      ]
    },
    {
      "cell_type": "code",
      "source": [
        "  import os\n",
        "\n",
        "\n",
        "  # Create a new directory\n",
        "  os.mkdir(\"new_directory\")\n",
        "  print(\"Directory 'new_directory' created\")\n",
        ""
      ],
      "metadata": {
        "colab": {
          "base_uri": "https://localhost:8080/"
        },
        "id": "d96oblUTS4K3",
        "outputId": "b0e37791-8fa4-41d8-ae7f-4dee88eb4fbe"
      },
      "execution_count": 74,
      "outputs": [
        {
          "output_type": "stream",
          "name": "stdout",
          "text": [
            "Directory 'new_directory' created\n"
          ]
        }
      ]
    },
    {
      "cell_type": "code",
      "source": [
        "import math\n",
        "\n",
        "\n",
        "\n",
        "\n",
        "\n",
        "print(\"Attributes in math module:\")\n",
        "print(dir(math))\n",
        "\n",
        "\n",
        "my_string = \"Hello, World!\"\n",
        "print(\"\\nAttributes in a string object:\")\n",
        "print(dir(my_string))\n"
      ],
      "metadata": {
        "colab": {
          "base_uri": "https://localhost:8080/"
        },
        "id": "26JudOYkTM14",
        "outputId": "c6b9ec43-6088-41b8-c1ea-ecac125ba22c"
      },
      "execution_count": 80,
      "outputs": [
        {
          "output_type": "stream",
          "name": "stdout",
          "text": [
            "Attributes in math module:\n",
            "['__doc__', '__loader__', '__name__', '__package__', '__spec__', 'acos', 'acosh', 'asin', 'asinh', 'atan', 'atan2', 'atanh', 'ceil', 'comb', 'copysign', 'cos', 'cosh', 'degrees', 'dist', 'e', 'erf', 'erfc', 'exp', 'expm1', 'fabs', 'factorial', 'floor', 'fmod', 'frexp', 'fsum', 'gamma', 'gcd', 'hypot', 'inf', 'isclose', 'isfinite', 'isinf', 'isnan', 'isqrt', 'lcm', 'ldexp', 'lgamma', 'log', 'log10', 'log1p', 'log2', 'modf', 'nan', 'nextafter', 'perm', 'pi', 'pow', 'prod', 'radians', 'remainder', 'sin', 'sinh', 'sqrt', 'tan', 'tanh', 'tau', 'trunc', 'ulp']\n",
            "\n",
            "Attributes in a string object:\n",
            "['__add__', '__class__', '__contains__', '__delattr__', '__dir__', '__doc__', '__eq__', '__format__', '__ge__', '__getattribute__', '__getitem__', '__getnewargs__', '__gt__', '__hash__', '__init__', '__init_subclass__', '__iter__', '__le__', '__len__', '__lt__', '__mod__', '__mul__', '__ne__', '__new__', '__reduce__', '__reduce_ex__', '__repr__', '__rmod__', '__rmul__', '__setattr__', '__sizeof__', '__str__', '__subclasshook__', 'capitalize', 'casefold', 'center', 'count', 'encode', 'endswith', 'expandtabs', 'find', 'format', 'format_map', 'index', 'isalnum', 'isalpha', 'isascii', 'isdecimal', 'isdigit', 'isidentifier', 'islower', 'isnumeric', 'isprintable', 'isspace', 'istitle', 'isupper', 'join', 'ljust', 'lower', 'lstrip', 'maketrans', 'partition', 'removeprefix', 'removesuffix', 'replace', 'rfind', 'rindex', 'rjust', 'rpartition', 'rsplit', 'rstrip', 'split', 'splitlines', 'startswith', 'strip', 'swapcase', 'title', 'translate', 'upper', 'zfill']\n"
          ]
        }
      ]
    },
    {
      "cell_type": "code",
      "source": [],
      "metadata": {
        "id": "XFLD2aJJTW4s"
      },
      "execution_count": null,
      "outputs": []
    }
  ]
}