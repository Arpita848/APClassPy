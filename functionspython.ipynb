{
  "nbformat": 4,
  "nbformat_minor": 0,
  "metadata": {
    "colab": {
      "provenance": []
    },
    "kernelspec": {
      "name": "python3",
      "display_name": "Python 3"
    },
    "language_info": {
      "name": "python"
    }
  },
  "cells": [
    {
      "cell_type": "code",
      "execution_count": 2,
      "metadata": {
        "colab": {
          "base_uri": "https://localhost:8080/"
        },
        "id": "VsmEjVZfJ94v",
        "outputId": "48f1e2b6-9dbc-4222-e44e-72241deef0c6"
      },
      "outputs": [
        {
          "output_type": "stream",
          "name": "stdout",
          "text": [
            "Hello, Arpita!\n"
          ]
        }
      ],
      "source": [
        "def greet(name):\n",
        "\n",
        "    \"\"\"Greets a person by their name.\"\"\"\n",
        "    return f\"Hello, {name}!\"\n",
        "\n",
        "message = greet(\"Arpita\")\n",
        "print(message)  # Output: Hello, Alice!\n",
        "\n"
      ]
    },
    {
      "cell_type": "code",
      "source": [
        "def add(a, b):\n",
        "\n",
        "    \"\"\"Returns the sum of two numbers.\"\"\"\n",
        "    return a + b\n",
        "\n",
        "result = add(5, 3)\n",
        "print(result)  # Output: 8\n"
      ],
      "metadata": {
        "colab": {
          "base_uri": "https://localhost:8080/"
        },
        "id": "YpsA20eJLDNl",
        "outputId": "95d4b2f7-b737-4854-d7a9-06c3be7ab785"
      },
      "execution_count": 4,
      "outputs": [
        {
          "output_type": "stream",
          "name": "stdout",
          "text": [
            "8\n"
          ]
        }
      ]
    },
    {
      "cell_type": "code",
      "source": [
        "def introduce(name, age=23):\n",
        "\n",
        "    \"\"\"Introduces a person with their name and age.\"\"\"\n",
        "    return f\"My name is {name}, and I am {age} years old.\"\n",
        "\n",
        "\n",
        "print(introduce(\"arpita\"))  # Output: My name is Bob, and I am 23 years old.\n",
        "\n",
        "\n"
      ],
      "metadata": {
        "colab": {
          "base_uri": "https://localhost:8080/"
        },
        "id": "FUxLd4V-LxZN",
        "outputId": "0581f558-6101-4f70-b4df-ce6146d38fdb"
      },
      "execution_count": 10,
      "outputs": [
        {
          "output_type": "stream",
          "name": "stdout",
          "text": [
            "My name is arpita, and I am 23 years old.\n"
          ]
        }
      ]
    },
    {
      "cell_type": "code",
      "source": [
        "def sum_numbers(numbers):\n",
        "\n",
        "    \"\"\"Sums all the numbers in a collection.\"\"\"\n",
        "    return sum(numbers)\n",
        "\n",
        "\n",
        "result = sum_numbers([1, 2, 3, 4, 5])\n",
        "print(result)  # Output: 15Passing a tuple to the function\n",
        "\n",
        "\n"
      ],
      "metadata": {
        "colab": {
          "base_uri": "https://localhost:8080/"
        },
        "id": "Lsa6k0GPMTz_",
        "outputId": "505689c6-9ce1-4245-9ff3-8198cdd08dba"
      },
      "execution_count": 11,
      "outputs": [
        {
          "output_type": "stream",
          "name": "stdout",
          "text": [
            "15\n"
          ]
        }
      ]
    },
    {
      "cell_type": "code",
      "source": [
        "x = 10  # Global variable\n",
        "\n",
        "\n",
        "def outer_function():\n",
        "    x = 20  # Enclosing variable\n",
        "    def inner_function():\n",
        "        x = 30  # Local variable\n",
        "        print(x)  # Output: 30\n",
        "    inner_function()\n",
        "    print(x)  # Output: 20\n",
        "outer_function()\n",
        "print(x)  # Output: 10\n"
      ],
      "metadata": {
        "colab": {
          "base_uri": "https://localhost:8080/"
        },
        "id": "K5tJoHe_Mydy",
        "outputId": "47c0601f-8a99-4753-ef82-651722d4d14b"
      },
      "execution_count": 14,
      "outputs": [
        {
          "output_type": "stream",
          "name": "stdout",
          "text": [
            "30\n",
            "20\n",
            "10\n"
          ]
        }
      ]
    },
    {
      "cell_type": "code",
      "source": [
        "     def greet(name, message):\n",
        "         return f\"Hello, {name}! {message}\"\n",
        "     print(greet(\"Arpita\", \"Welcome to the team!\"))\n",
        ""
      ],
      "metadata": {
        "colab": {
          "base_uri": "https://localhost:8080/"
        },
        "id": "J03UcZiFNAZQ",
        "outputId": "61b02be3-c056-4f8c-d484-205b27a67190"
      },
      "execution_count": 16,
      "outputs": [
        {
          "output_type": "stream",
          "name": "stdout",
          "text": [
            "Hello, Arpita! Welcome to the team!\n"
          ]
        }
      ]
    },
    {
      "cell_type": "code",
      "source": [
        "     def greet(name, message=\"Welcome!\"):\n",
        "         return f\"Hello, {name}! {message}\"\n",
        "     print(greet(\"Ananya\"))  # Uses default message\n",
        "     print(greet(\"Nandini\", \"Good to see you!\"))  # Overrides default\n",
        ""
      ],
      "metadata": {
        "colab": {
          "base_uri": "https://localhost:8080/"
        },
        "id": "BSnx7O9wNKD-",
        "outputId": "f2020b02-7c7c-4541-ad3d-6eb9cf00b982"
      },
      "execution_count": 18,
      "outputs": [
        {
          "output_type": "stream",
          "name": "stdout",
          "text": [
            "Hello, Ananya! Welcome!\n",
            "Hello, Nandini! Good to see you!\n"
          ]
        }
      ]
    },
    {
      "cell_type": "code",
      "source": [
        "     def greet(*names):\n",
        "         for name in names:\n",
        "             print(f\"Hello, {name}!\")\n",
        "     greet(\"Alice\", \"Bob\", \"Charlie\")\n",
        ""
      ],
      "metadata": {
        "colab": {
          "base_uri": "https://localhost:8080/"
        },
        "id": "R2HI5i5dNeFM",
        "outputId": "9571e01f-1c0b-486c-d730-278793a38770"
      },
      "execution_count": 19,
      "outputs": [
        {
          "output_type": "stream",
          "name": "stdout",
          "text": [
            "Hello, Alice!\n",
            "Hello, Bob!\n",
            "Hello, Charlie!\n"
          ]
        }
      ]
    },
    {
      "cell_type": "code",
      "source": [
        "     def describe_person(**info):\n",
        "         for key, value in info.items():\n",
        "             print(f\"{key}: {value}\")\n",
        "     describe_person(name=\"Alice\", age=30, job=\"Engineer\")\n",
        ""
      ],
      "metadata": {
        "colab": {
          "base_uri": "https://localhost:8080/"
        },
        "id": "C2QiVfUjNjVc",
        "outputId": "0f0f2f44-5327-4c6d-ccb8-130a754d9bfa"
      },
      "execution_count": 20,
      "outputs": [
        {
          "output_type": "stream",
          "name": "stdout",
          "text": [
            "name: Alice\n",
            "age: 30\n",
            "job: Engineer\n"
          ]
        }
      ]
    },
    {
      "cell_type": "code",
      "source": [
        "def add(a, b):\n",
        "\n",
        "    return a + b\n",
        "result = add(5, 3)\n",
        "print(result)  # Output: 8\n"
      ],
      "metadata": {
        "colab": {
          "base_uri": "https://localhost:8080/"
        },
        "id": "yG--oNnGNpQW",
        "outputId": "571ac53a-ca52-4dae-d5bb-ef6beafd6611"
      },
      "execution_count": 21,
      "outputs": [
        {
          "output_type": "stream",
          "name": "stdout",
          "text": [
            "8\n"
          ]
        }
      ]
    },
    {
      "cell_type": "code",
      "source": [
        "def swap(a, b):\n",
        "\n",
        "    return b, a\n",
        "x, y = swap(1, 2)\n",
        "print(x, y)  # Output: 2 1\n"
      ],
      "metadata": {
        "colab": {
          "base_uri": "https://localhost:8080/"
        },
        "id": "gWtLIOhONteG",
        "outputId": "a3dec6bd-9f66-4599-df1e-39f92b260804"
      },
      "execution_count": 22,
      "outputs": [
        {
          "output_type": "stream",
          "name": "stdout",
          "text": [
            "2 1\n"
          ]
        }
      ]
    },
    {
      "cell_type": "code",
      "source": [
        "counter = 0\n",
        "\n",
        "\n",
        "def increment():\n",
        "    global counter\n",
        "    counter += 1\n",
        "increment()\n",
        "print(counter)  # Output: 1\n"
      ],
      "metadata": {
        "colab": {
          "base_uri": "https://localhost:8080/"
        },
        "id": "D7VpkwzoNxSY",
        "outputId": "ad66d848-9d0a-4e4f-9bc5-3d906732b49a"
      },
      "execution_count": 23,
      "outputs": [
        {
          "output_type": "stream",
          "name": "stdout",
          "text": [
            "1\n"
          ]
        }
      ]
    },
    {
      "cell_type": "code",
      "source": [
        "  def modify_immutable(x):\n",
        "      x += 1\n",
        "      print(f\"Inside function: {x}\")\n",
        "  a = 5\n",
        "  modify_immutable(a)\n",
        "  print(f\"Outside function: {a}\")  # Output: 5 (unchanged)\n",
        ""
      ],
      "metadata": {
        "colab": {
          "base_uri": "https://localhost:8080/"
        },
        "id": "MZbO8vUWORav",
        "outputId": "11ed44c2-dde1-48a7-e2ce-834e66c83eb5"
      },
      "execution_count": 24,
      "outputs": [
        {
          "output_type": "stream",
          "name": "stdout",
          "text": [
            "Inside function: 6\n",
            "Outside function: 5\n"
          ]
        }
      ]
    },
    {
      "cell_type": "code",
      "source": [
        "  def modify_mutable(lst):\n",
        "      lst.append(4)\n",
        "      print(f\"Inside function: {lst}\")\n",
        "  my_list = [1, 2, 3]\n",
        "  modify_mutable(my_list)\n",
        "  print(f\"Outside function: {my_list}\")  # Output: [1, 2, 3, 4] (modified)\n",
        ""
      ],
      "metadata": {
        "colab": {
          "base_uri": "https://localhost:8080/"
        },
        "id": "4ZOtlwgqOVrB",
        "outputId": "246a1b51-528a-41d0-ef01-98619db5e755"
      },
      "execution_count": 25,
      "outputs": [
        {
          "output_type": "stream",
          "name": "stdout",
          "text": [
            "Inside function: [1, 2, 3, 4]\n",
            "Outside function: [1, 2, 3, 4]\n"
          ]
        }
      ]
    },
    {
      "cell_type": "code",
      "source": [
        "  def modify(x):\n",
        "      print(f\"Before: {id(x)}\")\n",
        "      x += 1\n",
        "      print(f\"After: {id(x)}\")\n",
        "  a = 5\n",
        "  modify(a)\n",
        ""
      ],
      "metadata": {
        "colab": {
          "base_uri": "https://localhost:8080/"
        },
        "id": "pW0DUgyIOZp_",
        "outputId": "09718a19-99b8-4ae6-df5f-986d596ed55b"
      },
      "execution_count": 26,
      "outputs": [
        {
          "output_type": "stream",
          "name": "stdout",
          "text": [
            "Before: 134430233756016\n",
            "After: 134430233756048\n"
          ]
        }
      ]
    },
    {
      "cell_type": "code",
      "source": [
        "  def modify(lst):\n",
        "      print(f\"Before: {id(lst)}\")\n",
        "      lst.append(4)\n",
        "      print(f\"After: {id(lst)}\")\n",
        "  my_list = [1, 2, 3]\n",
        "  modify(my_list)\n",
        ""
      ],
      "metadata": {
        "colab": {
          "base_uri": "https://localhost:8080/"
        },
        "id": "obQDf2bJOfB-",
        "outputId": "3d7380af-c375-4d04-e5f2-c543619283d8"
      },
      "execution_count": 27,
      "outputs": [
        {
          "output_type": "stream",
          "name": "stdout",
          "text": [
            "Before: 134428950757952\n",
            "After: 134428950757952\n"
          ]
        }
      ]
    },
    {
      "cell_type": "code",
      "source": [
        "def square(x):\n",
        "\n",
        "    return x * x\n",
        "\n",
        "\n",
        "f = square\n",
        "print(f(5))  # Output: 25Passing a function as an argument\n",
        "\n",
        "\n",
        "def apply_function(func, value):\n",
        "    return func(value)\n",
        "result = apply_function(square, 4)\n",
        "print(result)  # Output: 16\n"
      ],
      "metadata": {
        "colab": {
          "base_uri": "https://localhost:8080/"
        },
        "id": "NwuPNmjpOj1O",
        "outputId": "0a080c43-1a69-401e-8d9b-b6cd74dea959"
      },
      "execution_count": 29,
      "outputs": [
        {
          "output_type": "stream",
          "name": "stdout",
          "text": [
            "25\n",
            "16\n"
          ]
        }
      ]
    },
    {
      "cell_type": "code",
      "source": [
        "def double(x):\n",
        "\n",
        "    return x * 2\n",
        "def triple(x):\n",
        "    return x * 3\n",
        "def apply_operation(func, number):\n",
        "    return func(number)\n",
        "print(apply_operation(double, 5))  # Output: 10\n",
        "print(apply_operation(triple, 5))  # Output: 15\n"
      ],
      "metadata": {
        "colab": {
          "base_uri": "https://localhost:8080/"
        },
        "id": "VCwS5t4sOtzm",
        "outputId": "41f1a332-1421-46b0-e45b-17095dbb1a00"
      },
      "execution_count": 30,
      "outputs": [
        {
          "output_type": "stream",
          "name": "stdout",
          "text": [
            "10\n",
            "15\n"
          ]
        }
      ]
    },
    {
      "cell_type": "code",
      "source": [
        "def print_numbers(*args):\n",
        "\n",
        "    \"\"\"Prints each number passed as an argument.\"\"\"\n",
        "    for number in args:\n",
        "        print(number)\n",
        "\n",
        "print_numbers(1, 2, 3, 4, 5)\n"
      ],
      "metadata": {
        "colab": {
          "base_uri": "https://localhost:8080/"
        },
        "id": "6ajoqdYoO2Wy",
        "outputId": "1c139d16-159c-43b7-f3d5-f2ff4b41c41f"
      },
      "execution_count": 32,
      "outputs": [
        {
          "output_type": "stream",
          "name": "stdout",
          "text": [
            "1\n",
            "2\n",
            "3\n",
            "4\n",
            "5\n"
          ]
        }
      ]
    },
    {
      "cell_type": "code",
      "source": [
        "def print_key_values(**kwargs):\n",
        "\n",
        "    \"\"\"Prints each key-value pair passed as keyword arguments.\"\"\"\n",
        "    for key, value in kwargs.items():\n",
        "        print(f\"{key}: {value}\")\n",
        "\n",
        "\n",
        "print_key_values(name=\"Arpita\", age=23, city=\"Angul\")\n"
      ],
      "metadata": {
        "colab": {
          "base_uri": "https://localhost:8080/"
        },
        "id": "v3Q-9fSfO9vq",
        "outputId": "15dc1853-e16a-44cc-8a5d-3382adad64da"
      },
      "execution_count": 35,
      "outputs": [
        {
          "output_type": "stream",
          "name": "stdout",
          "text": [
            "name: Arpita\n",
            "age: 23\n",
            "city: Angul\n"
          ]
        }
      ]
    },
    {
      "cell_type": "code",
      "source": [
        "def greet(*args, **kwargs):\n",
        "\n",
        "    \"\"\"Greets people and provides additional information.\"\"\"\n",
        "    for name in args:\n",
        "        print(f\"Hello, {name}!\")\n",
        "\n",
        "    for key, value in kwargs.items():\n",
        "        print(f\"{key}: {value}\")\n",
        "\n",
        "\n",
        "greet(\"Arpita\", \"nandini\", age=23, city=\"dehradun\")\n"
      ],
      "metadata": {
        "colab": {
          "base_uri": "https://localhost:8080/"
        },
        "id": "4beVkcz5PNMo",
        "outputId": "3db4ec0b-e81d-4829-f2a1-72f16e57ae5f"
      },
      "execution_count": 38,
      "outputs": [
        {
          "output_type": "stream",
          "name": "stdout",
          "text": [
            "Hello, Arpita!\n",
            "Hello, nandini!\n",
            "age: 23\n",
            "city: dehradun\n"
          ]
        }
      ]
    },
    {
      "cell_type": "code",
      "source": [
        "# Lambda function to add two numbers\n",
        "\n",
        "add = lambda a, b: a + b\n",
        "print(add(3, 5))  # Output: 8Using a lambda function with map\n",
        "\n",
        "\n",
        "numbers = [1, 2, 3, 4]\n",
        "squared = map(lambda x: x * x, numbers)\n",
        "print(list(squared))  # Output: [1, 4, 9, 16]\n"
      ],
      "metadata": {
        "colab": {
          "base_uri": "https://localhost:8080/"
        },
        "id": "rQg7v6jEPh_3",
        "outputId": "f3e80b84-a43a-49a5-959b-195c228b0266"
      },
      "execution_count": 39,
      "outputs": [
        {
          "output_type": "stream",
          "name": "stdout",
          "text": [
            "8\n",
            "[1, 4, 9, 16]\n"
          ]
        }
      ]
    },
    {
      "cell_type": "code",
      "source": [
        "# Using map to square each number in a list\n",
        "\n",
        "numbers = [1, 2, 3, 4, 5]\n",
        "squared = map(lambda x: x * x, numbers)\n",
        "print(list(squared))  # Output: [1, 4, 9, 16, 25]Using filter to get only even numbers from a list\n",
        "\n",
        "\n",
        "even_numbers = filter(lambda x: x % 2 == 0, numbers)\n",
        "print(list(even_numbers))  # Output: [2, 4]\n"
      ],
      "metadata": {
        "colab": {
          "base_uri": "https://localhost:8080/"
        },
        "id": "-Uv7efuUPmh_",
        "outputId": "3de82d21-6e07-4056-cd2b-b0189b391579"
      },
      "execution_count": 40,
      "outputs": [
        {
          "output_type": "stream",
          "name": "stdout",
          "text": [
            "[1, 4, 9, 16, 25]\n",
            "[2, 4]\n"
          ]
        }
      ]
    },
    {
      "cell_type": "code",
      "source": [
        "# Using map without converting the result\n",
        "\n",
        "def square(x):\n",
        "    return x * x\n",
        "numbers = [1, 2, 3, 4, 5]\n",
        "result = map(square, numbers)\n",
        "print(result)  # This will print a map object, like\n"
      ],
      "metadata": {
        "colab": {
          "base_uri": "https://localhost:8080/"
        },
        "id": "Nx8FMgPQPrYl",
        "outputId": "1e11b984-763f-40dc-f15c-959e5f2953fe"
      },
      "execution_count": 41,
      "outputs": [
        {
          "output_type": "stream",
          "name": "stdout",
          "text": [
            "<map object at 0x7a432ddf5900>\n"
          ]
        }
      ]
    },
    {
      "cell_type": "code",
      "source": [
        "# Converting the map object to a list\n",
        "\n",
        "result = list(map(square, numbers))\n",
        "print(result)  # Output: [1, 4, 9, 16, 25]\n"
      ],
      "metadata": {
        "colab": {
          "base_uri": "https://localhost:8080/"
        },
        "id": "FTGzWRPTPxex",
        "outputId": "d03920b1-61f1-427f-fdf1-8bdd601f2497"
      },
      "execution_count": 42,
      "outputs": [
        {
          "output_type": "stream",
          "name": "stdout",
          "text": [
            "[1, 4, 9, 16, 25]\n"
          ]
        }
      ]
    },
    {
      "cell_type": "code",
      "source": [
        "def outer_function(text):\n",
        "\n",
        "    def inner_function():\n",
        "        return text.upper()\n",
        "    return inner_function()\n",
        "\n",
        "result = outer_function(\"hello\")\n",
        "print(result)  # Output: HELLO\n"
      ],
      "metadata": {
        "colab": {
          "base_uri": "https://localhost:8080/"
        },
        "id": "kUwjIiKEQDXq",
        "outputId": "99a2d0d8-1faa-4b8a-b303-7ac2c1ee3da1"
      },
      "execution_count": 45,
      "outputs": [
        {
          "output_type": "stream",
          "name": "stdout",
          "text": [
            "HELLO\n"
          ]
        }
      ]
    },
    {
      "cell_type": "code",
      "source": [
        "def make_multiplier(n):\n",
        "\n",
        "    def multiplier(x):\n",
        "        return x * n\n",
        "    return multiplier\n",
        "times_three = make_multiplier(3)\n",
        "print(times_three(10))  # Output: 30\n"
      ],
      "metadata": {
        "colab": {
          "base_uri": "https://localhost:8080/"
        },
        "id": "bnciOK_RQHu6",
        "outputId": "cabf14c4-f85d-471d-9134-1a1bf74adc18"
      },
      "execution_count": 46,
      "outputs": [
        {
          "output_type": "stream",
          "name": "stdout",
          "text": [
            "30\n"
          ]
        }
      ]
    }
  ]
}