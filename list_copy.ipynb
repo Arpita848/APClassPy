{
  "nbformat": 4,
  "nbformat_minor": 0,
  "metadata": {
    "colab": {
      "provenance": []
    },
    "kernelspec": {
      "name": "python3",
      "display_name": "Python 3"
    },
    "language_info": {
      "name": "python"
    }
  },
  "cells": [
    {
      "cell_type": "code",
      "source": [
        "listA = [2, 4, 6, [1, 3]]\n",
        "listB = listA\n",
        "showDetails(listA,listB)\n",
        "listB[1] = 44\n",
        "\n",
        "showDetails(listA,listB)\n",
        "listB[3][1] = 10\n",
        "\n",
        "\n",
        "showDetails(listA,listB)"
      ],
      "metadata": {
        "colab": {
          "base_uri": "https://localhost:8080/"
        },
        "id": "52HQLV0FIFRv",
        "outputId": "1724ac5c-f48f-44ee-8167-9f7e01141b5f"
      },
      "execution_count": 5,
      "outputs": [
        {
          "output_type": "stream",
          "name": "stdout",
          "text": [
            "The Value of 1 variable is \t[2, 4, 6, [1, 3]]\t its id is \t 140016544749312\n",
            "The Value of 2 variable is \t[2, 4, 6, [1, 3]]\t its id is \t 140016544749312\n",
            "\n",
            "\n",
            "\n",
            "The Value of 1 variable is \t[2, 44, 6, [1, 3]]\t its id is \t 140016544749312\n",
            "The Value of 2 variable is \t[2, 44, 6, [1, 3]]\t its id is \t 140016544749312\n",
            "\n",
            "\n",
            "\n",
            "The Value of 1 variable is \t[2, 44, 6, [1, 10]]\t its id is \t 140016544749312\n",
            "The Value of 2 variable is \t[2, 44, 6, [1, 10]]\t its id is \t 140016544749312\n",
            "\n",
            "\n",
            "\n"
          ]
        }
      ]
    },
    {
      "cell_type": "code",
      "source": [
        "listA = [2, 4, 6, [1, 3]]\n",
        "listB = [x for x in listA]\n",
        "showDetails(listA,listB)\n",
        "\n",
        "listB[1] = 44\n",
        "listB[3][0] = 55\n",
        "showDetails(listA,listB)"
      ],
      "metadata": {
        "colab": {
          "base_uri": "https://localhost:8080/"
        },
        "id": "UsM1DziVIaM0",
        "outputId": "78b36b47-fc71-4352-8ce7-cdb8336bec6e"
      },
      "execution_count": 7,
      "outputs": [
        {
          "output_type": "stream",
          "name": "stdout",
          "text": [
            "The Value of 1 variable is \t[2, 4, 6, [1, 3]]\t its id is \t 140016546195840\n",
            "The Value of 2 variable is \t[2, 4, 6, [1, 3]]\t its id is \t 140016544734400\n",
            "\n",
            "\n",
            "\n",
            "The Value of 1 variable is \t[2, 4, 6, [55, 3]]\t its id is \t 140016546195840\n",
            "The Value of 2 variable is \t[2, 44, 6, [55, 3]]\t its id is \t 140016544734400\n",
            "\n",
            "\n",
            "\n"
          ]
        }
      ]
    },
    {
      "cell_type": "code",
      "source": [
        "listA = [2, 4, 6, [1, 3]]\n",
        "listB = listA.copy()\n",
        "showDetails(listA,listB)\n",
        "\n",
        "listB[1] = 44\n",
        "listB[3][0] = 55\n",
        "showDetails(listA,listB)"
      ],
      "metadata": {
        "colab": {
          "base_uri": "https://localhost:8080/"
        },
        "id": "YSwexA40IzRr",
        "outputId": "9017934b-c7d7-45f5-8353-b88b74702350"
      },
      "execution_count": 8,
      "outputs": [
        {
          "output_type": "stream",
          "name": "stdout",
          "text": [
            "The Value of 1 variable is \t[2, 4, 6, [1, 3]]\t its id is \t 140016549313024\n",
            "The Value of 2 variable is \t[2, 4, 6, [1, 3]]\t its id is \t 140016539166592\n",
            "\n",
            "\n",
            "\n",
            "The Value of 1 variable is \t[2, 4, 6, [55, 3]]\t its id is \t 140016549313024\n",
            "The Value of 2 variable is \t[2, 44, 6, [55, 3]]\t its id is \t 140016539166592\n",
            "\n",
            "\n",
            "\n"
          ]
        }
      ]
    },
    {
      "cell_type": "code",
      "source": [
        "import copy\n",
        "listA = [2, 4, 6, [1, 3]]\n",
        "listB = copy.copy(listA)\n",
        "\n",
        "showDetails(listA,listB)\n",
        "listB[1] = 44\n",
        "listB[3][0] = 55\n",
        "showDetails(listA,listB)"
      ],
      "metadata": {
        "colab": {
          "base_uri": "https://localhost:8080/"
        },
        "id": "XMKUuhkSI3G9",
        "outputId": "d57336b4-76bf-49dd-98e3-1a367a284dcb"
      },
      "execution_count": 9,
      "outputs": [
        {
          "output_type": "stream",
          "name": "stdout",
          "text": [
            "The Value of 1 variable is \t[2, 4, 6, [1, 3]]\t its id is \t 140016544331584\n",
            "The Value of 2 variable is \t[2, 4, 6, [1, 3]]\t its id is \t 140016544171008\n",
            "\n",
            "\n",
            "\n",
            "The Value of 1 variable is \t[2, 4, 6, [55, 3]]\t its id is \t 140016544331584\n",
            "The Value of 2 variable is \t[2, 44, 6, [55, 3]]\t its id is \t 140016544171008\n",
            "\n",
            "\n",
            "\n"
          ]
        }
      ]
    },
    {
      "cell_type": "code",
      "source": [
        "import copy\n",
        "listA = [2, 4, 6, [1, 3]]\n",
        "listB = copy.deepcopy(listA)\n",
        "showDetails(listA,listB)\n",
        "listB[1] = 44\n",
        "listB[3][0] = 55\n",
        "showDetails(listA,listB)"
      ],
      "metadata": {
        "colab": {
          "base_uri": "https://localhost:8080/"
        },
        "id": "mBWb3WfvI-2S",
        "outputId": "793c3a92-5398-41ab-e337-fb6b01ff8c60"
      },
      "execution_count": 10,
      "outputs": [
        {
          "output_type": "stream",
          "name": "stdout",
          "text": [
            "The Value of 1 variable is \t[2, 4, 6, [1, 3]]\t its id is \t 140016277195648\n",
            "The Value of 2 variable is \t[2, 4, 6, [1, 3]]\t its id is \t 140016543210688\n",
            "\n",
            "\n",
            "\n",
            "The Value of 1 variable is \t[2, 4, 6, [1, 3]]\t its id is \t 140016277195648\n",
            "The Value of 2 variable is \t[2, 44, 6, [55, 3]]\t its id is \t 140016543210688\n",
            "\n",
            "\n",
            "\n"
          ]
        }
      ]
    },
    {
      "cell_type": "code",
      "source": [
        "class Pony():\n",
        "    def __init__(self, n):\n",
        "        self.name = n\n",
        "\n",
        "# copy.copy on an object gives you 2 unique objects (with same attributes)\n",
        "pony1 = Pony('Pinto')\n",
        "pony2 = copy.copy(pony1)\n",
        "showDetails(pony1,pony2)\n",
        "\n",
        "print(id(pony1), id(pony2))\n",
        "\n",
        "# copy.copy on a list of objects gives you 2 unique lists containing the exact same objects\n",
        "# (ie. new list is a shallow copy)\n",
        "m = [pony1, pony2]\n",
        "n = copy.copy (m)\n",
        "print(id(m[0]), id(n[0]))\n",
        "\n",
        "# use copy.deepcopy to deep copy a list of objects\n",
        "n = copy.deepcopy (m)\n",
        "print(id(m[0]), id(n[0]))"
      ],
      "metadata": {
        "colab": {
          "base_uri": "https://localhost:8080/"
        },
        "id": "GtU3U6hVJVJ_",
        "outputId": "398eb72d-ba38-4d09-ce0b-db4890419283"
      },
      "execution_count": 11,
      "outputs": [
        {
          "output_type": "stream",
          "name": "stdout",
          "text": [
            "The Value of 1 variable is \t<__main__.Pony object at 0x7f5824136a40>\t its id is \t 140016539101760\n",
            "The Value of 2 variable is \t<__main__.Pony object at 0x7f5824135c90>\t its id is \t 140016539098256\n",
            "\n",
            "\n",
            "\n",
            "140016539101760 140016539098256\n",
            "140016539101760 140016539101760\n",
            "140016539101760 140016539094416\n"
          ]
        }
      ]
    },
    {
      "cell_type": "code",
      "source": [],
      "metadata": {
        "id": "9wUI_OTMJZzF"
      },
      "execution_count": null,
      "outputs": []
    }
  ]
}