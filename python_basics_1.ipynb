{
  "nbformat": 4,
  "nbformat_minor": 0,
  "metadata": {
    "colab": {
      "provenance": []
    },
    "kernelspec": {
      "name": "python3",
      "display_name": "Python 3"
    },
    "language_info": {
      "name": "python"
    }
  },
  "cells": [
    {
      "cell_type": "code",
      "execution_count": 1,
      "metadata": {
        "colab": {
          "base_uri": "https://localhost:8080/"
        },
        "id": "R8yHFmoX6bLg",
        "outputId": "3f332596-950c-42d3-b894-52585a0e0e4a"
      },
      "outputs": [
        {
          "output_type": "stream",
          "name": "stdout",
          "text": [
            "Hello, World!\n"
          ]
        }
      ],
      "source": [
        "print(\"Hello, World!\")"
      ]
    },
    {
      "cell_type": "code",
      "source": [
        "x = 10        # x is an integer\n",
        "\n",
        "x = \"Hello\"   # x is now a string\n",
        "\n",
        "print(x)"
      ],
      "metadata": {
        "colab": {
          "base_uri": "https://localhost:8080/"
        },
        "id": "FuxIb3XF7gQz",
        "outputId": "ad37efa0-0452-40e0-9333-931adc63f7bf"
      },
      "execution_count": 4,
      "outputs": [
        {
          "output_type": "stream",
          "name": "stdout",
          "text": [
            "Hello\n"
          ]
        }
      ]
    },
    {
      "cell_type": "code",
      "source": [
        "x = 10\n",
        "\n",
        "print(id(x))  # Output: Address of x\n",
        "x = x + 1\n",
        "print(id(x))  # Output: New address, since x is now a new object\n",
        "y = \"Hello\"\n",
        "print(id(y))  # Output: Address of y\n",
        "y = y + \" World\"\n",
        "print(id(y))  # Output: New address, since y is now a new object\n"
      ],
      "metadata": {
        "colab": {
          "base_uri": "https://localhost:8080/"
        },
        "id": "OY4rgwlB7n0e",
        "outputId": "e5e984d4-43bf-4293-ca3b-dc8714664b74"
      },
      "execution_count": 7,
      "outputs": [
        {
          "output_type": "stream",
          "name": "stdout",
          "text": [
            "136006027903504\n",
            "136006027903536\n",
            "136005578470832\n",
            "136005578464880\n"
          ]
        }
      ]
    },
    {
      "cell_type": "code",
      "source": [
        "z = [1, 2, 3]\n",
        "\n",
        "print(id(z))  # Output: Address of z\n",
        "z.append(4)\n",
        "print(id(z))  # Output: Same address, even though the contents have changed\n"
      ],
      "metadata": {
        "colab": {
          "base_uri": "https://localhost:8080/"
        },
        "id": "8eplbrJG8Lvk",
        "outputId": "a676ef68-7bdf-497f-b579-25d7c415181c"
      },
      "execution_count": 8,
      "outputs": [
        {
          "output_type": "stream",
          "name": "stdout",
          "text": [
            "136005578464704\n",
            "136005578464704\n"
          ]
        }
      ]
    },
    {
      "cell_type": "code",
      "source": [
        "if 5 > 2:\n",
        "\n",
        " print(\"Five is greater than two!\")  # Indentation is crucial in Python\n"
      ],
      "metadata": {
        "colab": {
          "base_uri": "https://localhost:8080/"
        },
        "id": "0aYFe2-K8kHK",
        "outputId": "81d54f91-4a52-4cf3-e715-339eb22bf13b"
      },
      "execution_count": 9,
      "outputs": [
        {
          "output_type": "stream",
          "name": "stdout",
          "text": [
            "Five is greater than two!\n"
          ]
        }
      ]
    },
    {
      "cell_type": "code",
      "source": [
        "# This is a single-line comment\n",
        "\n",
        "print(\"Hello, World!\")  # This is an inline comment\n",
        "\"\"\"\n",
        "This is a\n",
        "multi-line comment\n",
        "or docstring\n",
        "\"\"\"\n"
      ],
      "metadata": {
        "colab": {
          "base_uri": "https://localhost:8080/",
          "height": 52
        },
        "id": "GeY08yw_8sOs",
        "outputId": "83a32734-f687-45cd-e987-e3014d08a617"
      },
      "execution_count": 10,
      "outputs": [
        {
          "output_type": "stream",
          "name": "stdout",
          "text": [
            "Hello, World!\n"
          ]
        },
        {
          "output_type": "execute_result",
          "data": {
            "text/plain": [
              "'\\nThis is a\\nmulti-line comment\\nor docstring\\n'"
            ],
            "application/vnd.google.colaboratory.intrinsic+json": {
              "type": "string"
            }
          },
          "metadata": {},
          "execution_count": 10
        }
      ]
    },
    {
      "cell_type": "code",
      "source": [
        "my_string = \"hello, world!\"\n",
        "\n",
        "print(my_string.upper())  # Output: HELLO, WORLD!\n",
        "print(my_string.capitalize())  # Output: Hello, world!\n",
        "print(my_string.replace(\"world\", \"Python\"))  # Output: hello, Python!\n"
      ],
      "metadata": {
        "colab": {
          "base_uri": "https://localhost:8080/"
        },
        "id": "snyZ2bEp9Sz5",
        "outputId": "aa4e321a-ab19-4fbf-ac11-e2da9f0a215c"
      },
      "execution_count": 11,
      "outputs": [
        {
          "output_type": "stream",
          "name": "stdout",
          "text": [
            "HELLO, WORLD!\n",
            "Hello, world!\n",
            "hello, Python!\n"
          ]
        }
      ]
    },
    {
      "cell_type": "code",
      "source": [
        "# Concatenation\n",
        "\n",
        "str1 = \"Hello\"\n",
        "str2 = \"World\"\n",
        "result = str1 + \" \" + str2  # Output: \"Hello World\"Repetition\n",
        "\n",
        "\n",
        "result = str1 * 3  # Output: \"HelloHelloHello\"Membership\n",
        "\n",
        "\n",
        "print(\"H\" in str1)  # Output: True\n",
        "print(\"Z\" not in str1)  # Output: True\n"
      ],
      "metadata": {
        "colab": {
          "base_uri": "https://localhost:8080/"
        },
        "id": "_Sit3z009arl",
        "outputId": "5ba86d93-27a1-441d-e833-da43b2bf64bf"
      },
      "execution_count": 12,
      "outputs": [
        {
          "output_type": "stream",
          "name": "stdout",
          "text": [
            "True\n",
            "True\n"
          ]
        }
      ]
    },
    {
      "cell_type": "code",
      "source": [
        "str1 = \"Hello\"\n",
        "\n",
        "str2 = \"World\"\n",
        "result = str1 + \" \" + str2\n",
        "print(result)  # Output: Hello World\n"
      ],
      "metadata": {
        "colab": {
          "base_uri": "https://localhost:8080/"
        },
        "id": "EtK6cYSW9gNZ",
        "outputId": "bf191c28-6b02-46c3-db6e-07fa1207a755"
      },
      "execution_count": 13,
      "outputs": [
        {
          "output_type": "stream",
          "name": "stdout",
          "text": [
            "Hello World\n"
          ]
        }
      ]
    },
    {
      "cell_type": "code",
      "source": [
        "str1 = \"Hi\"\n",
        "\n",
        "result = str1 * 3\n",
        "print(result)  # Output: HiHiHi\n"
      ],
      "metadata": {
        "colab": {
          "base_uri": "https://localhost:8080/"
        },
        "id": "v0uiharw9nOp",
        "outputId": "2ee6f388-6026-4a7d-8ae7-51c0be503a19"
      },
      "execution_count": 14,
      "outputs": [
        {
          "output_type": "stream",
          "name": "stdout",
          "text": [
            "HiHiHi\n"
          ]
        }
      ]
    },
    {
      "cell_type": "code",
      "source": [
        "str1 = \"Hello World\"\n",
        "\n",
        "print(\"World\" in str1)     # Output: True\n",
        "print(\"world\" not in str1) # Output: True (case-sensitive)\n"
      ],
      "metadata": {
        "colab": {
          "base_uri": "https://localhost:8080/"
        },
        "id": "ljCCMAZ89seV",
        "outputId": "96295c67-efb4-4148-aa32-fbbcddcf7478"
      },
      "execution_count": 15,
      "outputs": [
        {
          "output_type": "stream",
          "name": "stdout",
          "text": [
            "True\n",
            "True\n"
          ]
        }
      ]
    },
    {
      "cell_type": "code",
      "source": [
        "str1 = \"Python\"\n",
        "\n",
        "print(str1[0])    # Output: P (first character)\n",
        "print(str1[-1])   # Output: n (last character)\n",
        "print(str1[0:3])  # Output: Pyt (slice from index 0 to 2)\n"
      ],
      "metadata": {
        "colab": {
          "base_uri": "https://localhost:8080/"
        },
        "id": "YGq1DLNa9xak",
        "outputId": "2581f76d-e625-4ca4-f3ee-00ce275b22e4"
      },
      "execution_count": 16,
      "outputs": [
        {
          "output_type": "stream",
          "name": "stdout",
          "text": [
            "P\n",
            "n\n",
            "Pyt\n"
          ]
        }
      ]
    },
    {
      "cell_type": "code",
      "source": [
        "str1 = \"apple\"\n",
        "\n",
        "str2 = \"banana\"\n",
        "print(str1 == str2)  # Output: False\n",
        "print(str1 < str2)   # Output: True (because \"a\" < \"b\")\n"
      ],
      "metadata": {
        "colab": {
          "base_uri": "https://localhost:8080/"
        },
        "id": "xJIUiWfp9263",
        "outputId": "24900aa2-04ef-42f7-fba7-bf6e28ba95dc"
      },
      "execution_count": 17,
      "outputs": [
        {
          "output_type": "stream",
          "name": "stdout",
          "text": [
            "False\n",
            "True\n"
          ]
        }
      ]
    },
    {
      "cell_type": "code",
      "source": [
        "str1 = \"He said, \\\"Hello!\\\"\"\n",
        "\n",
        "print(str1)  # Output: He said, \"Hello!\"\n",
        "str2 = \"Line1\\nLine2\"\n",
        "print(str2)  # Output:\n",
        " # Line1\n",
        " # Line2\n"
      ],
      "metadata": {
        "colab": {
          "base_uri": "https://localhost:8080/"
        },
        "id": "ZOPQb9wh98A2",
        "outputId": "0f5143a2-92e1-4bc0-c0e0-de03d59e06ae"
      },
      "execution_count": 18,
      "outputs": [
        {
          "output_type": "stream",
          "name": "stdout",
          "text": [
            "He said, \"Hello!\"\n",
            "Line1\n",
            "Line2\n"
          ]
        }
      ]
    },
    {
      "cell_type": "code",
      "source": [
        "str1 = r\"C:\\Users\\name\\docs\"\n",
        "\n",
        "print(str1)  # Output: C:\\Users\\name\\docs\n"
      ],
      "metadata": {
        "colab": {
          "base_uri": "https://localhost:8080/"
        },
        "id": "cxDmC_GU-Bi9",
        "outputId": "f12d3cac-d14c-4805-8b1b-86e7f8732fb5"
      },
      "execution_count": 19,
      "outputs": [
        {
          "output_type": "stream",
          "name": "stdout",
          "text": [
            "C:\\Users\\name\\docs\n"
          ]
        }
      ]
    },
    {
      "cell_type": "code",
      "source": [
        "# Old-style formatting\n",
        "\n",
        "name = \"Arpita\"\n",
        "age = 23\n",
        "print(\"My name is %s and I am %d years old.\" % (name, age))  # Output: My name is Alice and I am 30 years old.Using format()\n",
        "\n",
        "\n",
        "print(\"My name is {} and I am {} years old.\".format(name, age))  # Output: My name is Alice and I am 30 years old.Using f-strings (Python 3.6+)\n",
        "\n",
        "\n"
      ],
      "metadata": {
        "colab": {
          "base_uri": "https://localhost:8080/"
        },
        "id": "SIq-hQ2G-JJe",
        "outputId": "f962203c-1e79-45d6-c167-3eb2ba1e5cf1"
      },
      "execution_count": 21,
      "outputs": [
        {
          "output_type": "stream",
          "name": "stdout",
          "text": [
            "My name is Arpita and I am 23 years old.\n",
            "My name is Arpita and I am 23 years old.\n"
          ]
        }
      ]
    },
    {
      "cell_type": "code",
      "source": [
        "str1 = \"Hello\"\n",
        "\n",
        "print(len(str1))  # Output: 5\n"
      ],
      "metadata": {
        "colab": {
          "base_uri": "https://localhost:8080/"
        },
        "id": "TwksWURm-WLE",
        "outputId": "b4aa6bc5-5572-48d3-f51f-c86ddcdeb1d6"
      },
      "execution_count": 22,
      "outputs": [
        {
          "output_type": "stream",
          "name": "stdout",
          "text": [
            "5\n"
          ]
        }
      ]
    },
    {
      "cell_type": "code",
      "source": [
        "str1 = \"hello\"\n",
        "\n",
        "print(str1.upper())  # Output: HELLO\n"
      ],
      "metadata": {
        "colab": {
          "base_uri": "https://localhost:8080/"
        },
        "id": "OmlYv3jd-fSB",
        "outputId": "46a9fa77-01f9-4403-fe35-9fdba5167b87"
      },
      "execution_count": 23,
      "outputs": [
        {
          "output_type": "stream",
          "name": "stdout",
          "text": [
            "HELLO\n"
          ]
        }
      ]
    },
    {
      "cell_type": "code",
      "source": [
        "name = \"Arpita\"\n",
        "\n",
        "age = 23\n",
        "message = \"My name is {} and I am {} years old.\".format(name, age)\n",
        "print(message)  # Output: My name is Alice and I am 30 years old.\n"
      ],
      "metadata": {
        "colab": {
          "base_uri": "https://localhost:8080/"
        },
        "id": "FkpWsJWU-mPE",
        "outputId": "a9896b96-86fb-4ede-c6a7-cc23bf816264"
      },
      "execution_count": 26,
      "outputs": [
        {
          "output_type": "stream",
          "name": "stdout",
          "text": [
            "My name is Arpita and I am 23 years old.\n"
          ]
        }
      ]
    },
    {
      "cell_type": "code",
      "source": [
        "x = 10       # Integer\n",
        "\n",
        "y = 3.14     # Float\n",
        "z = 1 + 2j   # Complex number\n",
        "print(x)\n",
        "print(y)\n",
        "print(z + y)"
      ],
      "metadata": {
        "colab": {
          "base_uri": "https://localhost:8080/"
        },
        "id": "Kn7TfWGc-vUh",
        "outputId": "1f066383-5590-44d1-e2c8-390c4c3fae4c"
      },
      "execution_count": 30,
      "outputs": [
        {
          "output_type": "stream",
          "name": "stdout",
          "text": [
            "10\n",
            "3.14\n",
            "(4.140000000000001+2j)\n"
          ]
        }
      ]
    },
    {
      "cell_type": "code",
      "source": [
        "a = 10\n",
        "\n",
        "b = -25\n",
        "c = 12345678901234567890  # Large integer\n",
        "print(a)\n",
        "print(b)\n",
        "print(c-b)"
      ],
      "metadata": {
        "colab": {
          "base_uri": "https://localhost:8080/"
        },
        "id": "UqAywWJF-9aQ",
        "outputId": "ad447763-cfff-4a5a-b85e-fd1f70010c4d"
      },
      "execution_count": 32,
      "outputs": [
        {
          "output_type": "stream",
          "name": "stdout",
          "text": [
            "10\n",
            "-25\n",
            "12345678901234567915\n"
          ]
        }
      ]
    },
    {
      "cell_type": "code",
      "source": [
        "d = 3.14159\n",
        "\n",
        "e = -2.71828\n",
        "f = 1.0\n",
        "print(f)"
      ],
      "metadata": {
        "colab": {
          "base_uri": "https://localhost:8080/"
        },
        "id": "oj_hcX-y_LyK",
        "outputId": "f913aec3-6ab1-46fd-87e0-d783ab06f61c"
      },
      "execution_count": 33,
      "outputs": [
        {
          "output_type": "stream",
          "name": "stdout",
          "text": [
            "1.0\n"
          ]
        }
      ]
    },
    {
      "cell_type": "code",
      "source": [
        "g = 3 + 4j\n",
        "\n",
        "h = -5j\n",
        "i = 2.5 + 0j\n",
        "print(i)"
      ],
      "metadata": {
        "colab": {
          "base_uri": "https://localhost:8080/"
        },
        "id": "zq9yTHFm_WOx",
        "outputId": "ce80d17b-f1e9-45a3-d26c-365dd33dff52"
      },
      "execution_count": 35,
      "outputs": [
        {
          "output_type": "stream",
          "name": "stdout",
          "text": [
            "(2.5+0j)\n"
          ]
        }
      ]
    },
    {
      "cell_type": "code",
      "source": [
        "complex1 = 2 + 3j\n",
        "\n",
        "complex2 = 1 + 4j\n",
        "result = complex1 + complex2  # Output: (3+7j)\n",
        "print(complex2)"
      ],
      "metadata": {
        "colab": {
          "base_uri": "https://localhost:8080/"
        },
        "id": "KZ24A6sK_oTK",
        "outputId": "7936a414-ed5e-43bc-d23f-7d897b3d50a7"
      },
      "execution_count": 37,
      "outputs": [
        {
          "output_type": "stream",
          "name": "stdout",
          "text": [
            "(1+4j)\n"
          ]
        }
      ]
    },
    {
      "cell_type": "code",
      "source": [
        "import sys\n",
        "\n",
        "x = 42\n",
        "size = sys.getsizeof(x)\n",
        "print(f\"Size of x: {size} bytes\")\n"
      ],
      "metadata": {
        "colab": {
          "base_uri": "https://localhost:8080/"
        },
        "id": "OKcfgPSyALjM",
        "outputId": "5cefa635-9943-4258-9309-01cc0d78d801"
      },
      "execution_count": 40,
      "outputs": [
        {
          "output_type": "stream",
          "name": "stdout",
          "text": [
            "Size of x: 28 bytes\n"
          ]
        }
      ]
    },
    {
      "cell_type": "code",
      "source": [
        "x = 42\n",
        "\n",
        "variable_type = type(x)\n",
        "print(f\"Type of x: {variable_type}\")\n"
      ],
      "metadata": {
        "colab": {
          "base_uri": "https://localhost:8080/"
        },
        "id": "l0aCxRgMAVgC",
        "outputId": "9f0b3fe6-7549-40e5-beec-a5f620299b2b"
      },
      "execution_count": 41,
      "outputs": [
        {
          "output_type": "stream",
          "name": "stdout",
          "text": [
            "Type of x: <class 'int'>\n"
          ]
        }
      ]
    },
    {
      "cell_type": "code",
      "source": [
        "x = 42\n",
        "\n",
        "memory_location = id(x)\n",
        "print(f\"Memory location of x: {memory_location}\")\n"
      ],
      "metadata": {
        "colab": {
          "base_uri": "https://localhost:8080/"
        },
        "id": "Xb_LYIWbAbX4",
        "outputId": "d6503ff2-f83f-4bfe-9d74-76c7b4342649"
      },
      "execution_count": 42,
      "outputs": [
        {
          "output_type": "stream",
          "name": "stdout",
          "text": [
            "Memory location of x: 136006027904528\n"
          ]
        }
      ]
    },
    {
      "cell_type": "code",
      "source": [
        "import sys\n",
        "\n",
        "x = 42\n",
        "size = sys.getsizeof(x)\n",
        "variable_type = type(x)\n",
        "memory_location = id(x)\n",
        "print(f\"Size of x: {size} bytes\")\n",
        "print(f\"Type of x: {variable_type}\")\n",
        "print(f\"Memory location (id) of x: {memory_location}\")\n"
      ],
      "metadata": {
        "colab": {
          "base_uri": "https://localhost:8080/"
        },
        "id": "DIgadfgUAnRC",
        "outputId": "818bbf6d-3f4b-4be8-ce68-12a944705063"
      },
      "execution_count": 43,
      "outputs": [
        {
          "output_type": "stream",
          "name": "stdout",
          "text": [
            "Size of x: 28 bytes\n",
            "Type of x: <class 'int'>\n",
            "Memory location (id) of x: 136006027904528\n"
          ]
        }
      ]
    },
    {
      "cell_type": "code",
      "source": [],
      "metadata": {
        "id": "RnLy4YYFAy7p"
      },
      "execution_count": null,
      "outputs": []
    }
  ]
}